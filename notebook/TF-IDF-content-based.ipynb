{
 "cells": [
  {
   "cell_type": "code",
   "execution_count": 97,
   "id": "a26282cb",
   "metadata": {},
   "outputs": [],
   "source": [
    "import pandas as pd\n",
    "\n",
    "df = pd.read_parquet('../data/movie_data.parquet')"
   ]
  },
  {
   "cell_type": "code",
   "execution_count": 98,
   "id": "011a40af",
   "metadata": {},
   "outputs": [
    {
     "name": "stdout",
     "output_type": "stream",
     "text": [
      "<class 'pandas.core.frame.DataFrame'>\n",
      "RangeIndex: 99806 entries, 0 to 99805\n",
      "Data columns (total 14 columns):\n",
      " #   Column             Non-Null Count  Dtype  \n",
      "---  ------             --------------  -----  \n",
      " 0   userId             99806 non-null  int64  \n",
      " 1   rating             99806 non-null  float64\n",
      " 2   imdb_id            99806 non-null  object \n",
      " 3   adult              99806 non-null  object \n",
      " 4   genres             99806 non-null  object \n",
      " 5   original_language  99806 non-null  object \n",
      " 6   overview           99792 non-null  object \n",
      " 7   popularity         99806 non-null  float64\n",
      " 8   poster_path        99800 non-null  object \n",
      " 9   release_date       99800 non-null  object \n",
      " 10  runtime            99806 non-null  float64\n",
      " 11  title              99806 non-null  object \n",
      " 12  vote_average       99806 non-null  float64\n",
      " 13  vote_count         99806 non-null  float64\n",
      "dtypes: float64(5), int64(1), object(8)\n",
      "memory usage: 10.7+ MB\n"
     ]
    }
   ],
   "source": [
    "df.info()"
   ]
  },
  {
   "cell_type": "code",
   "execution_count": 99,
   "id": "c39d7de3",
   "metadata": {},
   "outputs": [
    {
     "data": {
      "text/plain": [
       "0        [{'id': 16, 'name': 'Animation'}, {'id': 35, '...\n",
       "1        [{'id': 16, 'name': 'Animation'}, {'id': 35, '...\n",
       "2        [{'id': 16, 'name': 'Animation'}, {'id': 35, '...\n",
       "3        [{'id': 16, 'name': 'Animation'}, {'id': 35, '...\n",
       "4        [{'id': 16, 'name': 'Animation'}, {'id': 35, '...\n",
       "                               ...                        \n",
       "99801    [{'id': 35, 'name': 'Comedy'}, {'id': 27, 'nam...\n",
       "99802                        [{'id': 18, 'name': 'Drama'}]\n",
       "99803    [{'id': 53, 'name': 'Thriller'}, {'id': 10749,...\n",
       "99804    [{'id': 12, 'name': 'Adventure'}, {'id': 18, '...\n",
       "99805    [{'id': 99, 'name': 'Documentary'}, {'id': 104...\n",
       "Name: genres, Length: 99806, dtype: object"
      ]
     },
     "execution_count": 99,
     "metadata": {},
     "output_type": "execute_result"
    }
   ],
   "source": [
    "df.genres"
   ]
  },
  {
   "cell_type": "code",
   "execution_count": 100,
   "id": "924fbf62",
   "metadata": {},
   "outputs": [],
   "source": [
    "df1 = df[['title','overview','genres','poster_path','vote_average','vote_count']].drop_duplicates().reset_index(drop=True)\n"
   ]
  },
  {
   "cell_type": "code",
   "execution_count": 101,
   "id": "cc5e2cd9",
   "metadata": {},
   "outputs": [
    {
     "data": {
      "text/html": [
       "<div>\n",
       "<style scoped>\n",
       "    .dataframe tbody tr th:only-of-type {\n",
       "        vertical-align: middle;\n",
       "    }\n",
       "\n",
       "    .dataframe tbody tr th {\n",
       "        vertical-align: top;\n",
       "    }\n",
       "\n",
       "    .dataframe thead th {\n",
       "        text-align: right;\n",
       "    }\n",
       "</style>\n",
       "<table border=\"1\" class=\"dataframe\">\n",
       "  <thead>\n",
       "    <tr style=\"text-align: right;\">\n",
       "      <th></th>\n",
       "      <th>title</th>\n",
       "      <th>overview</th>\n",
       "      <th>genres</th>\n",
       "      <th>poster_path</th>\n",
       "      <th>vote_average</th>\n",
       "      <th>vote_count</th>\n",
       "    </tr>\n",
       "  </thead>\n",
       "  <tbody>\n",
       "    <tr>\n",
       "      <th>272</th>\n",
       "      <td>Roommates</td>\n",
       "      <td>None</td>\n",
       "      <td>[{'id': 18, 'name': 'Drama'}, {'id': 35, 'name...</td>\n",
       "      <td>/hvHNlMvWS2GBt7RR971bJ3k4bJc.jpg</td>\n",
       "      <td>6.4</td>\n",
       "      <td>7.0</td>\n",
       "    </tr>\n",
       "    <tr>\n",
       "      <th>563</th>\n",
       "      <td>The Superwife</td>\n",
       "      <td>None</td>\n",
       "      <td>[{'id': 35, 'name': 'Comedy'}]</td>\n",
       "      <td>/AbhMKCh3fV5PY2B9uSPF1DWEvq2.jpg</td>\n",
       "      <td>5.3</td>\n",
       "      <td>7.0</td>\n",
       "    </tr>\n",
       "    <tr>\n",
       "      <th>684</th>\n",
       "      <td>The Day the Sun Turned Cold</td>\n",
       "      <td>None</td>\n",
       "      <td>[]</td>\n",
       "      <td>/loQea7CiBv6VevsU70vGpqj6AQM.jpg</td>\n",
       "      <td>7.0</td>\n",
       "      <td>2.0</td>\n",
       "    </tr>\n",
       "    <tr>\n",
       "      <th>1164</th>\n",
       "      <td>Guantanamera</td>\n",
       "      <td>None</td>\n",
       "      <td>[{'id': 18, 'name': 'Drama'}, {'id': 35, 'name...</td>\n",
       "      <td>/4axpsF1n3ABUjuibI3PndaFHgCv.jpg</td>\n",
       "      <td>8.0</td>\n",
       "      <td>3.0</td>\n",
       "    </tr>\n",
       "    <tr>\n",
       "      <th>1821</th>\n",
       "      <td>One Tough Cop</td>\n",
       "      <td>None</td>\n",
       "      <td>[]</td>\n",
       "      <td>/ihg8EBrYWdFYTRdLCnqqtN8dRLC.jpg</td>\n",
       "      <td>3.0</td>\n",
       "      <td>3.0</td>\n",
       "    </tr>\n",
       "    <tr>\n",
       "      <th>7256</th>\n",
       "      <td>The Three Musketeers</td>\n",
       "      <td>None</td>\n",
       "      <td>[{'id': 28, 'name': 'Action'}, {'id': 12, 'nam...</td>\n",
       "      <td>/hvttwy7RWLtWTnt9IC5LQjRYerC.jpg</td>\n",
       "      <td>3.0</td>\n",
       "      <td>2.0</td>\n",
       "    </tr>\n",
       "    <tr>\n",
       "      <th>7911</th>\n",
       "      <td>Descongelate!</td>\n",
       "      <td>None</td>\n",
       "      <td>[{'id': 18, 'name': 'Drama'}, {'id': 35, 'name...</td>\n",
       "      <td>/mdzlBQYuaXHYhUaUHswvcWmb9xw.jpg</td>\n",
       "      <td>0.0</td>\n",
       "      <td>0.0</td>\n",
       "    </tr>\n",
       "    <tr>\n",
       "      <th>8690</th>\n",
       "      <td>Off Beat</td>\n",
       "      <td>None</td>\n",
       "      <td>[{'id': 18, 'name': 'Drama'}]</td>\n",
       "      <td>/4D85xDXqwSq6mTDdX1ZowJ2jMT8.jpg</td>\n",
       "      <td>6.5</td>\n",
       "      <td>16.0</td>\n",
       "    </tr>\n",
       "    <tr>\n",
       "      <th>8854</th>\n",
       "      <td>El vals de los inútiles</td>\n",
       "      <td>None</td>\n",
       "      <td>[{'id': 99, 'name': 'Documentary'}]</td>\n",
       "      <td>/c0vQXiTwiHrDamg1gfRlF3OB9Op.jpg</td>\n",
       "      <td>5.7</td>\n",
       "      <td>3.0</td>\n",
       "    </tr>\n",
       "    <tr>\n",
       "      <th>8935</th>\n",
       "      <td>Bana Masal Anlatma</td>\n",
       "      <td>None</td>\n",
       "      <td>[{'id': 35, 'name': 'Comedy'}, {'id': 18, 'nam...</td>\n",
       "      <td>/u276zhNPhGQSjhXbPa6B0QJL5JP.jpg</td>\n",
       "      <td>5.7</td>\n",
       "      <td>9.0</td>\n",
       "    </tr>\n",
       "    <tr>\n",
       "      <th>8938</th>\n",
       "      <td>İtirazım Var</td>\n",
       "      <td>None</td>\n",
       "      <td>[{'id': 18, 'name': 'Drama'}, {'id': 28, 'name...</td>\n",
       "      <td>/nIsKBgYkJalvyf9hhLxYFyU6OES.jpg</td>\n",
       "      <td>7.1</td>\n",
       "      <td>9.0</td>\n",
       "    </tr>\n",
       "    <tr>\n",
       "      <th>8940</th>\n",
       "      <td>Pek Yakında</td>\n",
       "      <td>None</td>\n",
       "      <td>[{'id': 28, 'name': 'Action'}, {'id': 35, 'nam...</td>\n",
       "      <td>/1WFFgXjvbYxn21b6ZJPK5ZTL7hw.jpg</td>\n",
       "      <td>7.1</td>\n",
       "      <td>26.0</td>\n",
       "    </tr>\n",
       "  </tbody>\n",
       "</table>\n",
       "</div>"
      ],
      "text/plain": [
       "                            title overview  \\\n",
       "272                     Roommates     None   \n",
       "563                 The Superwife     None   \n",
       "684   The Day the Sun Turned Cold     None   \n",
       "1164                 Guantanamera     None   \n",
       "1821                One Tough Cop     None   \n",
       "7256         The Three Musketeers     None   \n",
       "7911                Descongelate!     None   \n",
       "8690                     Off Beat     None   \n",
       "8854      El vals de los inútiles     None   \n",
       "8935           Bana Masal Anlatma     None   \n",
       "8938                 İtirazım Var     None   \n",
       "8940                  Pek Yakında     None   \n",
       "\n",
       "                                                 genres  \\\n",
       "272   [{'id': 18, 'name': 'Drama'}, {'id': 35, 'name...   \n",
       "563                      [{'id': 35, 'name': 'Comedy'}]   \n",
       "684                                                  []   \n",
       "1164  [{'id': 18, 'name': 'Drama'}, {'id': 35, 'name...   \n",
       "1821                                                 []   \n",
       "7256  [{'id': 28, 'name': 'Action'}, {'id': 12, 'nam...   \n",
       "7911  [{'id': 18, 'name': 'Drama'}, {'id': 35, 'name...   \n",
       "8690                      [{'id': 18, 'name': 'Drama'}]   \n",
       "8854                [{'id': 99, 'name': 'Documentary'}]   \n",
       "8935  [{'id': 35, 'name': 'Comedy'}, {'id': 18, 'nam...   \n",
       "8938  [{'id': 18, 'name': 'Drama'}, {'id': 28, 'name...   \n",
       "8940  [{'id': 28, 'name': 'Action'}, {'id': 35, 'nam...   \n",
       "\n",
       "                           poster_path  vote_average  vote_count  \n",
       "272   /hvHNlMvWS2GBt7RR971bJ3k4bJc.jpg           6.4         7.0  \n",
       "563   /AbhMKCh3fV5PY2B9uSPF1DWEvq2.jpg           5.3         7.0  \n",
       "684   /loQea7CiBv6VevsU70vGpqj6AQM.jpg           7.0         2.0  \n",
       "1164  /4axpsF1n3ABUjuibI3PndaFHgCv.jpg           8.0         3.0  \n",
       "1821  /ihg8EBrYWdFYTRdLCnqqtN8dRLC.jpg           3.0         3.0  \n",
       "7256  /hvttwy7RWLtWTnt9IC5LQjRYerC.jpg           3.0         2.0  \n",
       "7911  /mdzlBQYuaXHYhUaUHswvcWmb9xw.jpg           0.0         0.0  \n",
       "8690  /4D85xDXqwSq6mTDdX1ZowJ2jMT8.jpg           6.5        16.0  \n",
       "8854  /c0vQXiTwiHrDamg1gfRlF3OB9Op.jpg           5.7         3.0  \n",
       "8935  /u276zhNPhGQSjhXbPa6B0QJL5JP.jpg           5.7         9.0  \n",
       "8938  /nIsKBgYkJalvyf9hhLxYFyU6OES.jpg           7.1         9.0  \n",
       "8940  /1WFFgXjvbYxn21b6ZJPK5ZTL7hw.jpg           7.1        26.0  "
      ]
     },
     "execution_count": 101,
     "metadata": {},
     "output_type": "execute_result"
    }
   ],
   "source": [
    "df1[df1.overview.isna() == True]"
   ]
  },
  {
   "cell_type": "code",
   "execution_count": 102,
   "id": "5663671e",
   "metadata": {},
   "outputs": [],
   "source": [
    "df1['overview'] = df1['overview'].fillna('')\n",
    "df1['poster_path'] = df1['poster_path'].fillna('')"
   ]
  },
  {
   "cell_type": "code",
   "execution_count": 103,
   "id": "f0701810",
   "metadata": {},
   "outputs": [
    {
     "data": {
      "text/plain": [
       "\"[{'id': 16, 'name': 'Animation'}, {'id': 35, 'name': 'Comedy'}, {'id': 10751, 'name': 'Family'}]\""
      ]
     },
     "execution_count": 103,
     "metadata": {},
     "output_type": "execute_result"
    }
   ],
   "source": [
    "df1['genres'][0]"
   ]
  },
  {
   "cell_type": "code",
   "execution_count": 104,
   "id": "51223939",
   "metadata": {},
   "outputs": [
    {
     "name": "stdout",
     "output_type": "stream",
     "text": [
      "['Animation', 'Comedy', 'Family']\n"
     ]
    }
   ],
   "source": [
    "import ast\n",
    "\n",
    "genres = ast.literal_eval(df1['genres'][0])\n",
    "genres_name = [genre['name'] for genre in genres]\n",
    "print(genres_name)"
   ]
  },
  {
   "cell_type": "code",
   "execution_count": 105,
   "id": "5a83d824",
   "metadata": {},
   "outputs": [
    {
     "data": {
      "text/html": [
       "<div>\n",
       "<style scoped>\n",
       "    .dataframe tbody tr th:only-of-type {\n",
       "        vertical-align: middle;\n",
       "    }\n",
       "\n",
       "    .dataframe tbody tr th {\n",
       "        vertical-align: top;\n",
       "    }\n",
       "\n",
       "    .dataframe thead th {\n",
       "        text-align: right;\n",
       "    }\n",
       "</style>\n",
       "<table border=\"1\" class=\"dataframe\">\n",
       "  <thead>\n",
       "    <tr style=\"text-align: right;\">\n",
       "      <th></th>\n",
       "      <th>title</th>\n",
       "      <th>genres</th>\n",
       "    </tr>\n",
       "  </thead>\n",
       "  <tbody>\n",
       "    <tr>\n",
       "      <th>0</th>\n",
       "      <td>Toy Story</td>\n",
       "      <td>[Animation, Comedy, Family]</td>\n",
       "    </tr>\n",
       "    <tr>\n",
       "      <th>1</th>\n",
       "      <td>Jumanji</td>\n",
       "      <td>[Adventure, Fantasy, Family]</td>\n",
       "    </tr>\n",
       "    <tr>\n",
       "      <th>2</th>\n",
       "      <td>Grumpier Old Men</td>\n",
       "      <td>[Romance, Comedy]</td>\n",
       "    </tr>\n",
       "    <tr>\n",
       "      <th>3</th>\n",
       "      <td>Waiting to Exhale</td>\n",
       "      <td>[Comedy, Drama, Romance]</td>\n",
       "    </tr>\n",
       "    <tr>\n",
       "      <th>4</th>\n",
       "      <td>Father of the Bride Part II</td>\n",
       "      <td>[Comedy]</td>\n",
       "    </tr>\n",
       "  </tbody>\n",
       "</table>\n",
       "</div>"
      ],
      "text/plain": [
       "                         title                        genres\n",
       "0                    Toy Story   [Animation, Comedy, Family]\n",
       "1                      Jumanji  [Adventure, Fantasy, Family]\n",
       "2             Grumpier Old Men             [Romance, Comedy]\n",
       "3            Waiting to Exhale      [Comedy, Drama, Romance]\n",
       "4  Father of the Bride Part II                      [Comedy]"
      ]
     },
     "execution_count": 105,
     "metadata": {},
     "output_type": "execute_result"
    }
   ],
   "source": [
    "def extract_genre_names(genre_str):\n",
    "    try:\n",
    "        genres = ast.literal_eval(genre_str)\n",
    "        return [g['name'] for g in genres]   \n",
    "    except (ValueError, SyntaxError):\n",
    "        return []  \n",
    "df1['genres'] = df1['genres'].apply(extract_genre_names)\n",
    "df1[['title', 'genres']].head()"
   ]
  },
  {
   "cell_type": "code",
   "execution_count": 106,
   "id": "16b40e58",
   "metadata": {},
   "outputs": [
    {
     "data": {
      "text/plain": [
       "\"Animation Comedy Family Led by Woody, Andy's toys live happily in his room until Andy's birthday brings Buzz Lightyear onto the scene. Afraid of losing his place in Andy's heart, Woody plots against Buzz. But when circumstances separate Buzz and Woody from their owner, the duo eventually learns to put aside their differences.\""
      ]
     },
     "execution_count": 106,
     "metadata": {},
     "output_type": "execute_result"
    }
   ],
   "source": [
    "df1['genres_str'] = df1['genres'].apply(lambda x: ' '.join(x))\n",
    "df1['genres_str'] = df1['genres_str'].fillna('').apply(lambda x: ' '.join(x) if isinstance(x, list) else x)\n",
    "\n",
    "df1['text'] = df1['genres_str'] + ' ' + df1['overview']\n",
    "df1['text'][0]"
   ]
  },
  {
   "cell_type": "code",
   "execution_count": 107,
   "id": "c7bfc6fc",
   "metadata": {},
   "outputs": [],
   "source": [
    "from sklearn.feature_extraction.text import TfidfVectorizer\n",
    "\n",
    "tfidf = TfidfVectorizer(stop_words='english', max_features=5000)\n",
    "tfidf_matrix = tfidf.fit_transform(df1['text'])"
   ]
  },
  {
   "cell_type": "code",
   "execution_count": 108,
   "id": "73bc6dbc",
   "metadata": {},
   "outputs": [],
   "source": [
    "from sklearn.metrics.pairwise import cosine_similarity\n",
    "\n",
    "cosine_sim = cosine_similarity(tfidf_matrix, tfidf_matrix)\n",
    "\n",
    "indices = pd.Series(df1.index, index=df1['title']).drop_duplicates()"
   ]
  },
  {
   "cell_type": "code",
   "execution_count": 109,
   "id": "acc470a4",
   "metadata": {},
   "outputs": [
    {
     "data": {
      "text/plain": [
       "array([[1.        , 0.02396644, 0.00755   , ..., 0.        , 0.        ,\n",
       "        0.01481331],\n",
       "       [0.02396644, 1.        , 0.07057541, ..., 0.        , 0.01520441,\n",
       "        0.01570377],\n",
       "       [0.00755   , 0.07057541, 1.        , ..., 0.00813259, 0.0132603 ,\n",
       "        0.        ],\n",
       "       ...,\n",
       "       [0.        , 0.        , 0.00813259, ..., 1.        , 0.0170893 ,\n",
       "        0.        ],\n",
       "       [0.        , 0.01520441, 0.0132603 , ..., 0.0170893 , 1.        ,\n",
       "        0.        ],\n",
       "       [0.01481331, 0.01570377, 0.        , ..., 0.        , 0.        ,\n",
       "        1.        ]], shape=(9010, 9010))"
      ]
     },
     "execution_count": 109,
     "metadata": {},
     "output_type": "execute_result"
    }
   ],
   "source": [
    "cosine_sim"
   ]
  },
  {
   "cell_type": "code",
   "execution_count": 110,
   "id": "28ea5766",
   "metadata": {},
   "outputs": [
    {
     "data": {
      "text/plain": [
       "title\n",
       "Toy Story                                                0\n",
       "Jumanji                                                  1\n",
       "Grumpier Old Men                                         2\n",
       "Waiting to Exhale                                        3\n",
       "Father of the Bride Part II                              4\n",
       "                                                      ... \n",
       "Sharknado 4: The 4th Awakens                          9005\n",
       "The Last Brickmaker in America                        9006\n",
       "Rustom                                                9007\n",
       "Mohenjo Daro                                          9008\n",
       "The Beatles: Eight Days a Week - The Touring Years    9009\n",
       "Length: 9010, dtype: int64"
      ]
     },
     "execution_count": 110,
     "metadata": {},
     "output_type": "execute_result"
    }
   ],
   "source": [
    "indices"
   ]
  },
  {
   "cell_type": "code",
   "execution_count": 131,
   "id": "7062f77f",
   "metadata": {},
   "outputs": [],
   "source": [
    "def get_recommendations(title, n=10):\n",
    "    idx = indices[title]\n",
    "\n",
    "    # sim_scores are square matrix of the similarity between movie x and y: consine_sim[x][y]\n",
    "    # Turns consine_sim into [(row_num, similarity_score), (),()]\n",
    "    sim_scores = list(enumerate(cosine_sim[idx]))\n",
    "\n",
    "    # Extract similarity_score and sort\n",
    "    sim_scores = sorted(sim_scores, key=lambda x: x[1], reverse=True)\n",
    "\n",
    "    # skip the movie itself\n",
    "    sim_scores = sim_scores[1:len(df1)+1]  \n",
    "    \n",
    "    # Get index\n",
    "    movie_indices = [i[0] for i in sim_scores]\n",
    "\n",
    "    # Remove if the movie have vote avg lower than 5 or count is lower than 100\n",
    "    rec = df1[['title','genres','vote_average','vote_count','poster_path']].iloc[movie_indices]\n",
    "    rec = rec[(rec['vote_average'] > 5) & (rec['vote_count'] > 100)].head(n)\n",
    "\n",
    "    return rec"
   ]
  },
  {
   "cell_type": "code",
   "execution_count": 133,
   "id": "b77c2108",
   "metadata": {},
   "outputs": [
    {
     "data": {
      "text/html": [
       "<div>\n",
       "<style scoped>\n",
       "    .dataframe tbody tr th:only-of-type {\n",
       "        vertical-align: middle;\n",
       "    }\n",
       "\n",
       "    .dataframe tbody tr th {\n",
       "        vertical-align: top;\n",
       "    }\n",
       "\n",
       "    .dataframe thead th {\n",
       "        text-align: right;\n",
       "    }\n",
       "</style>\n",
       "<table border=\"1\" class=\"dataframe\">\n",
       "  <thead>\n",
       "    <tr style=\"text-align: right;\">\n",
       "      <th></th>\n",
       "      <th>title</th>\n",
       "      <th>genres</th>\n",
       "      <th>vote_average</th>\n",
       "      <th>vote_count</th>\n",
       "      <th>poster_path</th>\n",
       "    </tr>\n",
       "  </thead>\n",
       "  <tbody>\n",
       "    <tr>\n",
       "      <th>1672</th>\n",
       "      <td>Nineteen Eighty-Four</td>\n",
       "      <td>[Drama, Romance, Science Fiction]</td>\n",
       "      <td>6.8</td>\n",
       "      <td>311.0</td>\n",
       "      <td>/asqIqgy3lywRhrVv6WCdcofNWH1.jpg</td>\n",
       "    </tr>\n",
       "    <tr>\n",
       "      <th>5606</th>\n",
       "      <td>House of Flying Daggers</td>\n",
       "      <td>[Adventure, Drama, Action, Romance]</td>\n",
       "      <td>7.1</td>\n",
       "      <td>452.0</td>\n",
       "      <td>/39XJExIXKyvSYQYvy1b5EsutjB8.jpg</td>\n",
       "    </tr>\n",
       "    <tr>\n",
       "      <th>1310</th>\n",
       "      <td>Gattaca</td>\n",
       "      <td>[Thriller, Science Fiction, Mystery, Romance]</td>\n",
       "      <td>7.5</td>\n",
       "      <td>1846.0</td>\n",
       "      <td>/gPYtuvhQvP7v5F1Tqt2iQWR3Y7i.jpg</td>\n",
       "    </tr>\n",
       "    <tr>\n",
       "      <th>4719</th>\n",
       "      <td>THX 1138</td>\n",
       "      <td>[Drama, Mystery, Science Fiction]</td>\n",
       "      <td>6.4</td>\n",
       "      <td>265.0</td>\n",
       "      <td>/8cie5mojY6MlIrYMs9EtNSyterv.jpg</td>\n",
       "    </tr>\n",
       "    <tr>\n",
       "      <th>3299</th>\n",
       "      <td>In the Mood for Love</td>\n",
       "      <td>[Drama, Romance]</td>\n",
       "      <td>7.8</td>\n",
       "      <td>379.0</td>\n",
       "      <td>/unOW3SxFxBdd7LMWjmRONdHWKPb.jpg</td>\n",
       "    </tr>\n",
       "  </tbody>\n",
       "</table>\n",
       "</div>"
      ],
      "text/plain": [
       "                        title                                         genres  \\\n",
       "1672     Nineteen Eighty-Four              [Drama, Romance, Science Fiction]   \n",
       "5606  House of Flying Daggers            [Adventure, Drama, Action, Romance]   \n",
       "1310                  Gattaca  [Thriller, Science Fiction, Mystery, Romance]   \n",
       "4719                 THX 1138              [Drama, Mystery, Science Fiction]   \n",
       "3299     In the Mood for Love                               [Drama, Romance]   \n",
       "\n",
       "      vote_average  vote_count                       poster_path  \n",
       "1672           6.8       311.0  /asqIqgy3lywRhrVv6WCdcofNWH1.jpg  \n",
       "5606           7.1       452.0  /39XJExIXKyvSYQYvy1b5EsutjB8.jpg  \n",
       "1310           7.5      1846.0  /gPYtuvhQvP7v5F1Tqt2iQWR3Y7i.jpg  \n",
       "4719           6.4       265.0  /8cie5mojY6MlIrYMs9EtNSyterv.jpg  \n",
       "3299           7.8       379.0  /unOW3SxFxBdd7LMWjmRONdHWKPb.jpg  "
      ]
     },
     "execution_count": 133,
     "metadata": {},
     "output_type": "execute_result"
    }
   ],
   "source": [
    "get_recommendations('1984', n=5)"
   ]
  }
 ],
 "metadata": {
  "kernelspec": {
   "display_name": "torch_env",
   "language": "python",
   "name": "python3"
  },
  "language_info": {
   "codemirror_mode": {
    "name": "ipython",
    "version": 3
   },
   "file_extension": ".py",
   "mimetype": "text/x-python",
   "name": "python",
   "nbconvert_exporter": "python",
   "pygments_lexer": "ipython3",
   "version": "3.10.18"
  }
 },
 "nbformat": 4,
 "nbformat_minor": 5
}
